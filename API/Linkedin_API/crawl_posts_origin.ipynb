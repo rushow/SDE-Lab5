{
 "cells": [
  {
   "cell_type": "code",
   "execution_count": 9,
   "metadata": {},
   "outputs": [],
   "source": [
    "import json\n",
    "\n",
    "links = []\n",
    "with open('list_posts_v2.txt', 'r') as f:\n",
    "    for text in f.readlines():\n",
    "        links.append(text)"
   ]
  },
  {
   "cell_type": "code",
   "execution_count": 13,
   "metadata": {},
   "outputs": [
    {
     "name": "stdout",
     "output_type": "stream",
     "text": [
      "2022-02-02\n",
      "2021-09-03\n",
      "2022-01-30\n",
      "2022-02-02\n",
      "2021-12-08\n",
      "2014-02-02\n"
     ]
    }
   ],
   "source": [
    "import requests\n",
    "from bs4 import BeautifulSoup\n",
    "\n",
    "def get_hashtagslist(string):\n",
    "    ret = []\n",
    "    s=''\n",
    "    hashtag = False\n",
    "    for char in string:\n",
    "        if char=='#':\n",
    "            hashtag = True\n",
    "            if s:\n",
    "                ret.append(s)\n",
    "                s=''           \n",
    "            continue\n",
    "\n",
    "        # take only the prefix of the hastag in case contain one of this chars (like on:  '#happy,but i..' it will takes only 'happy'  )\n",
    "        if hashtag and char in [' ','.',',','(',')',':','{','}'] and s:\n",
    "            ret.append(s)\n",
    "            s=''\n",
    "            hashtag=False \n",
    "\n",
    "        if hashtag:\n",
    "            s+=char\n",
    "\n",
    "    if s:\n",
    "        ret.append(s)\n",
    "\n",
    "    return ret\n",
    "\n",
    "from datetime import date, timedelta\n",
    "def get_date(date_str):\n",
    "    # days=0\n",
    "    # seconds=0\n",
    "    # microseconds=0\n",
    "    # milliseconds=0\n",
    "    # minutes=0\n",
    "    # hours=0\n",
    "    # weeks=0\n",
    "    today = date.today()\n",
    "    \n",
    "    if 'mo' in date_str:\n",
    "        num = int(date_str.replace('mo', ''))\n",
    "        return today - timedelta(days=num*365.25/12)\n",
    "        \n",
    "    if 'm' in date_str:\n",
    "        num = int(date_str.replace('m', ''))\n",
    "        return today - timedelta(minutes=num)\n",
    "        \n",
    "    if 'd' in date_str:\n",
    "        num = int(date_str.replace('d', ''))\n",
    "        return today - timedelta(days=num)\n",
    "        \n",
    "    if 'h' in date_str:\n",
    "        num = int(date_str.replace('h', ''))\n",
    "        return today - timedelta(hours=num)\n",
    "        \n",
    "    if 'w' in date_str:\n",
    "        num = int(date_str.replace('w', ''))\n",
    "        return today - timedelta(weeks=num)\n",
    "\n",
    "    if 'yr' in date_str:\n",
    "        num = int(date_str.replace('yr', ''))\n",
    "        return today - timedelta(days=num*365.25)\n",
    "\n",
    "    return today\n",
    "\n",
    "texts = ['3m','5mo', '3d', '23h', '8w', '8yr']\n",
    "\n",
    "for text in texts:\n",
    "    print(get_date(text))\n",
    "\n",
    "\n",
    "# url = \"https://www.linkedin.com/posts/tom-alder_strategy-fintech-payments-activity-6835038759793381376-gz2F\"\n",
    "def get_post(url):\n",
    "    cookies = {'bcookie': 'v=2&28333265-0d6c-4c5a-8268-fb0dc7861f89'}\n",
    "    response = requests.request(\"GET\", url, cookies=cookies)\n",
    "    if ('// Parse the tracking code from cookies.' in response.text):\n",
    "        print('Cannot bypass the cookies')\n",
    "        return None\n",
    "\n",
    "    soup = BeautifulSoup(response.text, 'html.parser')\n",
    "    like_count = soup.find('span', {'class':'social-counts-reactions__social-counts-numRections'})\n",
    "    comment_count = soup.find('a', {'data-tracking-control-name':'public_post_share-update_social-details_social-action-counts_comments-text'})\n",
    "    author_info = soup.find('p', {'class':'share-update-card__actor-headline'})\n",
    "    content = soup.find('p', {'class':'share-update-card__update-text'})\n",
    "    author = soup.find('a', {'class':'share-update-card__actor-text-link'})\n",
    "    date = soup.find('time', {'class':'share-update-card__post-date'})\n",
    "    related_topics = soup.find_all('a', {'data-tracking-control-name':'public_post_related-topics-pill'})\n",
    "    approx_date = get_date(date)\n",
    "    row = {\n",
    "        'type': 'Page Post Linkedin',\n",
    "        'linkedin_url': url,\n",
    "        'author': author.text.strip() if author is not None else '',\n",
    "        'author_info': author_info.text.strip() if author_info is not None else '',\n",
    "        'date': date.text.strip() if date is not None else '',\n",
    "        'approx_date': str(approx_date) if date is not None else '',\n",
    "        'content': content.text.strip() if content is not None else '',\n",
    "        'related_topics': [i.text.strip() for i in related_topics] if related_topics is not None else [],\n",
    "        'hashtags': get_hashtagslist(content.text.strip()),\n",
    "        'like_count': like_count.text.strip() if like_count is not None else '0',\n",
    "        'comment_count': comment_count.text.strip() if comment_count is not None else '0'\n",
    "    }\n",
    "    return row"
   ]
  },
  {
   "cell_type": "code",
   "execution_count": 15,
   "metadata": {},
   "outputs": [
    {
     "name": "stdout",
     "output_type": "stream",
     "text": [
      "100\n"
     ]
    },
    {
     "ename": "TypeError",
     "evalue": "argument of type 'NoneType' is not iterable",
     "output_type": "error",
     "traceback": [
      "\u001b[1;31m---------------------------------------------------------------------------\u001b[0m",
      "\u001b[1;31mTypeError\u001b[0m                                 Traceback (most recent call last)",
      "Input \u001b[1;32mIn [15]\u001b[0m, in \u001b[0;36m<module>\u001b[1;34m\u001b[0m\n\u001b[0;32m      3\u001b[0m range_to \u001b[38;5;241m=\u001b[39m \u001b[38;5;241m5000\u001b[39m\n\u001b[0;32m      4\u001b[0m \u001b[38;5;28;01mfor\u001b[39;00m content \u001b[38;5;129;01min\u001b[39;00m links[range_from:range_to]:\n\u001b[1;32m----> 5\u001b[0m     dct \u001b[38;5;241m=\u001b[39m \u001b[43mget_post\u001b[49m\u001b[43m(\u001b[49m\u001b[43mcontent\u001b[49m\u001b[43m)\u001b[49m\n\u001b[0;32m      6\u001b[0m     result_list\u001b[38;5;241m.\u001b[39mappend(dct)\n\u001b[0;32m      7\u001b[0m     \u001b[38;5;28;01mif\u001b[39;00m \u001b[38;5;28mlen\u001b[39m(result_list) \u001b[38;5;241m%\u001b[39m \u001b[38;5;241m100\u001b[39m \u001b[38;5;241m==\u001b[39m \u001b[38;5;241m0\u001b[39m:\n",
      "Input \u001b[1;32mIn [13]\u001b[0m, in \u001b[0;36mget_post\u001b[1;34m(url)\u001b[0m\n\u001b[0;32m     87\u001b[0m date \u001b[38;5;241m=\u001b[39m soup\u001b[38;5;241m.\u001b[39mfind(\u001b[38;5;124m'\u001b[39m\u001b[38;5;124mtime\u001b[39m\u001b[38;5;124m'\u001b[39m, {\u001b[38;5;124m'\u001b[39m\u001b[38;5;124mclass\u001b[39m\u001b[38;5;124m'\u001b[39m:\u001b[38;5;124m'\u001b[39m\u001b[38;5;124mshare-update-card__post-date\u001b[39m\u001b[38;5;124m'\u001b[39m})\n\u001b[0;32m     88\u001b[0m related_topics \u001b[38;5;241m=\u001b[39m soup\u001b[38;5;241m.\u001b[39mfind_all(\u001b[38;5;124m'\u001b[39m\u001b[38;5;124ma\u001b[39m\u001b[38;5;124m'\u001b[39m, {\u001b[38;5;124m'\u001b[39m\u001b[38;5;124mdata-tracking-control-name\u001b[39m\u001b[38;5;124m'\u001b[39m:\u001b[38;5;124m'\u001b[39m\u001b[38;5;124mpublic_post_related-topics-pill\u001b[39m\u001b[38;5;124m'\u001b[39m})\n\u001b[1;32m---> 89\u001b[0m approx_date \u001b[38;5;241m=\u001b[39m \u001b[43mget_date\u001b[49m\u001b[43m(\u001b[49m\u001b[43mdate\u001b[49m\u001b[43m)\u001b[49m\n\u001b[0;32m     90\u001b[0m row \u001b[38;5;241m=\u001b[39m {\n\u001b[0;32m     91\u001b[0m     \u001b[38;5;124m'\u001b[39m\u001b[38;5;124mtype\u001b[39m\u001b[38;5;124m'\u001b[39m: \u001b[38;5;124m'\u001b[39m\u001b[38;5;124mPage Post Linkedin\u001b[39m\u001b[38;5;124m'\u001b[39m,\n\u001b[0;32m     92\u001b[0m     \u001b[38;5;124m'\u001b[39m\u001b[38;5;124mlinkedin_url\u001b[39m\u001b[38;5;124m'\u001b[39m: url,\n\u001b[1;32m   (...)\u001b[0m\n\u001b[0;32m    101\u001b[0m     \u001b[38;5;124m'\u001b[39m\u001b[38;5;124mcomment_count\u001b[39m\u001b[38;5;124m'\u001b[39m: comment_count\u001b[38;5;241m.\u001b[39mtext\u001b[38;5;241m.\u001b[39mstrip() \u001b[38;5;28;01mif\u001b[39;00m comment_count \u001b[38;5;129;01mis\u001b[39;00m \u001b[38;5;129;01mnot\u001b[39;00m \u001b[38;5;28;01mNone\u001b[39;00m \u001b[38;5;28;01melse\u001b[39;00m \u001b[38;5;124m'\u001b[39m\u001b[38;5;124m0\u001b[39m\u001b[38;5;124m'\u001b[39m\n\u001b[0;32m    102\u001b[0m }\n\u001b[0;32m    103\u001b[0m \u001b[38;5;28;01mreturn\u001b[39;00m row\n",
      "Input \u001b[1;32mIn [13]\u001b[0m, in \u001b[0;36mget_date\u001b[1;34m(date_str)\u001b[0m\n\u001b[0;32m     31\u001b[0m \u001b[38;5;28;01mdef\u001b[39;00m \u001b[38;5;21mget_date\u001b[39m(date_str):\n\u001b[0;32m     32\u001b[0m     \u001b[38;5;66;03m# days=0\u001b[39;00m\n\u001b[0;32m     33\u001b[0m     \u001b[38;5;66;03m# seconds=0\u001b[39;00m\n\u001b[1;32m   (...)\u001b[0m\n\u001b[0;32m     37\u001b[0m     \u001b[38;5;66;03m# hours=0\u001b[39;00m\n\u001b[0;32m     38\u001b[0m     \u001b[38;5;66;03m# weeks=0\u001b[39;00m\n\u001b[0;32m     39\u001b[0m     today \u001b[38;5;241m=\u001b[39m date\u001b[38;5;241m.\u001b[39mtoday()\n\u001b[1;32m---> 41\u001b[0m     \u001b[38;5;28;01mif\u001b[39;00m \u001b[38;5;124;43m'\u001b[39;49m\u001b[38;5;124;43mmo\u001b[39;49m\u001b[38;5;124;43m'\u001b[39;49m\u001b[43m \u001b[49m\u001b[38;5;129;43;01min\u001b[39;49;00m\u001b[43m \u001b[49m\u001b[43mdate_str\u001b[49m:\n\u001b[0;32m     42\u001b[0m         num \u001b[38;5;241m=\u001b[39m \u001b[38;5;28mint\u001b[39m(date_str\u001b[38;5;241m.\u001b[39mreplace(\u001b[38;5;124m'\u001b[39m\u001b[38;5;124mmo\u001b[39m\u001b[38;5;124m'\u001b[39m, \u001b[38;5;124m'\u001b[39m\u001b[38;5;124m'\u001b[39m))\n\u001b[0;32m     43\u001b[0m         \u001b[38;5;28;01mreturn\u001b[39;00m today \u001b[38;5;241m-\u001b[39m timedelta(days\u001b[38;5;241m=\u001b[39mnum\u001b[38;5;241m*\u001b[39m\u001b[38;5;241m365.25\u001b[39m\u001b[38;5;241m/\u001b[39m\u001b[38;5;241m12\u001b[39m)\n",
      "\u001b[1;31mTypeError\u001b[0m: argument of type 'NoneType' is not iterable"
     ]
    }
   ],
   "source": [
    "result_list = []\n",
    "range_from = 0\n",
    "range_to = 5000\n",
    "for content in links[range_from:range_to]:\n",
    "    dct = get_post(content)\n",
    "    result_list.append(dct)\n",
    "    if len(result_list) % 100 == 0:\n",
    "        print(len(result_list))\n",
    "\n",
    "with open(f'list_post_contents_v2_{range_from}_{range_to}.json', 'w', encoding='utf-8') as f:\n",
    "    json.dump(result_list, f, indent=4)"
   ]
  },
  {
   "cell_type": "code",
   "execution_count": null,
   "metadata": {},
   "outputs": [],
   "source": []
  }
 ],
 "metadata": {
  "interpreter": {
   "hash": "db73ff9431575e42c3df40c05504ca54fe6b94d91a526797d0df1090d64590d6"
  },
  "kernelspec": {
   "display_name": "Python 3.8.10 64-bit",
   "language": "python",
   "name": "python3"
  },
  "language_info": {
   "codemirror_mode": {
    "name": "ipython",
    "version": 3
   },
   "file_extension": ".py",
   "mimetype": "text/x-python",
   "name": "python",
   "nbconvert_exporter": "python",
   "pygments_lexer": "ipython3",
   "version": "3.8.10"
  },
  "orig_nbformat": 4
 },
 "nbformat": 4,
 "nbformat_minor": 2
}
