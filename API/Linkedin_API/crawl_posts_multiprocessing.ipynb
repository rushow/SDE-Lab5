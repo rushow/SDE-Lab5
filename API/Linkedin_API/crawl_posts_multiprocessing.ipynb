{
 "cells": [
  {
   "cell_type": "code",
   "execution_count": 1,
   "metadata": {},
   "outputs": [
    {
     "name": "stdout",
     "output_type": "stream",
     "text": [
      "3m -> 2022-02-02\n",
      "5mo -> 2021-09-03\n",
      "3d -> 2022-01-30\n",
      "23h -> 2022-02-02\n",
      "8w -> 2021-12-08\n",
      "8yr -> 2014-02-02\n"
     ]
    }
   ],
   "source": [
    "from post_linkedin import *\n",
    "from multiprocessing import Process\n",
    "import os\n",
    "import math\n",
    "\n",
    "vers = 'v3'\n",
    "def single(range_from, range_to):\n",
    "    links = []\n",
    "    with open(f'list_posts_{vers}.txt', 'r') as f:\n",
    "        for text in f.readlines():\n",
    "            links.append(text)\n",
    "\n",
    "    crawl(vers, links, range_from, range_to)\n",
    "\n",
    "def parallel(num_process, range_from, range_to):\n",
    "    links = []\n",
    "    with open(f'list_posts_{vers}.txt', 'r') as f:\n",
    "        for text in f.readlines():\n",
    "            links.append(text)\n",
    "\n",
    "    process_list = []\n",
    "\n",
    "    length = (range_to - range_from)\n",
    "    unit = int(length/num_process)\n",
    "    \n",
    "    for i in range(num_process):\n",
    "        jump_to = (i+1)*unit\n",
    "        if i == num_process - 1:\n",
    "            jump_to = range_to\n",
    "        print(f'Range: {unit*i} {jump_to}')\n",
    "        p = Process(target=crawl, args=(vers, links, unit*i,jump_to))\n",
    "        p.start()\n",
    "        process_list.append(p)\n",
    "\n",
    "    for _ in range(len(process_list)):\n",
    "        p = process_list[_]\n",
    "        p.join()\n",
    "\n",
    "    merge_json_files(list_all_sub_of(f'list_post_contents_{vers}_'))\n",
    "\n",
    "\n",
    "def merge_json_files(filenames):\n",
    "    result = list()\n",
    "    for f1 in filenames:\n",
    "        with open(f1, 'r') as infile:\n",
    "            result.extend(json.load(infile))\n",
    "\n",
    "    with open(f'list_post_contents_{vers}.json', 'w', encoding='utf-8') as output_file:\n",
    "        json.dump(result,  output_file, indent=4)\n",
    "    \n",
    "    print(f'Merged {len(result)}')\n",
    "\n",
    "def list_all_sub_of(json_prefix):\n",
    "    filenames = []\n",
    "    for file in os.listdir(\".\"):\n",
    "        if file.startswith(json_prefix):\n",
    "            filenames.append(file)\n",
    "\n",
    "    return filenames\n"
   ]
  },
  {
   "cell_type": "code",
   "execution_count": 4,
   "metadata": {},
   "outputs": [
    {
     "name": "stdout",
     "output_type": "stream",
     "text": [
      "Range: 0 10\n",
      "Range: 10 20\n",
      "Range: 20 30\n",
      "Range: 30 40\n",
      "Range: 40 50\n",
      "Range: 50 60\n",
      "Range: 60 70\n",
      "Range: 70 80\n",
      "Range: 80 90\n",
      "Range: 90 109\n",
      "Merged 100\n"
     ]
    }
   ],
   "source": [
    "parallel(1000, 0, 115000)\n",
    "# parallel(10, 0, 109)\n",
    "# single(0, 109)"
   ]
  },
  {
   "cell_type": "code",
   "execution_count": 16,
   "metadata": {},
   "outputs": [
    {
     "name": "stdout",
     "output_type": "stream",
     "text": [
      "115677\n"
     ]
    }
   ],
   "source": [
    "links = []\n",
    "with open('list_posts_v2.txt', 'r') as f1, open('list_posts.txt', 'r') as f2:\n",
    "    for text in f1.readlines():\n",
    "        links.append(text)\n",
    "\n",
    "    for text in f2.readlines():\n",
    "        links.append(text)\n",
    "\n",
    "links = list(set(links))\n",
    "print(len(links))\n",
    "\n",
    "with open('list_posts_v3.txt', 'w') as f3:\n",
    "    for link in links:\n",
    "        f3.write(link)\n",
    "    "
   ]
  },
  {
   "cell_type": "code",
   "execution_count": null,
   "metadata": {},
   "outputs": [],
   "source": []
  }
 ],
 "metadata": {
  "interpreter": {
   "hash": "db73ff9431575e42c3df40c05504ca54fe6b94d91a526797d0df1090d64590d6"
  },
  "kernelspec": {
   "display_name": "Python 3.8.10 64-bit",
   "language": "python",
   "name": "python3"
  },
  "language_info": {
   "codemirror_mode": {
    "name": "ipython",
    "version": 3
   },
   "file_extension": ".py",
   "mimetype": "text/x-python",
   "name": "python",
   "nbconvert_exporter": "python",
   "pygments_lexer": "ipython3",
   "version": "3.8.10"
  },
  "orig_nbformat": 4
 },
 "nbformat": 4,
 "nbformat_minor": 2
}
