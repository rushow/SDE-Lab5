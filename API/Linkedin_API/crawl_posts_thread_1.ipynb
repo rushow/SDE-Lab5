{
 "cells": [
  {
   "cell_type": "code",
   "execution_count": 2,
   "metadata": {},
   "outputs": [],
   "source": [
    "from post_linkedin import *\n",
    "from multiprocessing import Process\n",
    "\n",
    "def parallel(num_process, range_from, range_to):\n",
    "    process_list = []\n",
    "\n",
    "    unit = (range_to - range_from)/num_process\n",
    "    step = range_to\n",
    "    for _ in range(num_process):\n",
    "        p = Process(target=crawl, args=(step, step + unit))\n",
    "        p.start()\n",
    "        step += unit\n",
    "        process_list.append(p)\n",
    "\n",
    "    for _ in range(len(process_list)):\n",
    "        p = process_list[_]\n",
    "        p.join()\n"
   ]
  },
  {
   "cell_type": "code",
   "execution_count": 3,
   "metadata": {},
   "outputs": [],
   "source": [
    "parallel(10, 0, 100)"
   ]
  },
  {
   "cell_type": "code",
   "execution_count": null,
   "metadata": {},
   "outputs": [],
   "source": []
  }
 ],
 "metadata": {
  "interpreter": {
   "hash": "db73ff9431575e42c3df40c05504ca54fe6b94d91a526797d0df1090d64590d6"
  },
  "kernelspec": {
   "display_name": "Python 3.8.10 64-bit",
   "language": "python",
   "name": "python3"
  },
  "language_info": {
   "codemirror_mode": {
    "name": "ipython",
    "version": 3
   },
   "file_extension": ".py",
   "mimetype": "text/x-python",
   "name": "python",
   "nbconvert_exporter": "python",
   "pygments_lexer": "ipython3",
   "version": "3.8.10"
  },
  "orig_nbformat": 4
 },
 "nbformat": 4,
 "nbformat_minor": 2
}
